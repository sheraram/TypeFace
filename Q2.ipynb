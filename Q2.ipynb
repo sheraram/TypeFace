{
  "nbformat": 4,
  "nbformat_minor": 0,
  "metadata": {
    "colab": {
      "provenance": []
    },
    "kernelspec": {
      "name": "python3",
      "display_name": "Python 3"
    },
    "language_info": {
      "name": "python"
    }
  },
  "cells": [
    {
      "cell_type": "code",
      "execution_count": 1,
      "metadata": {
        "id": "uOAKFvlaISPA"
      },
      "outputs": [],
      "source": [
        "def soundex(name):\n",
        "\n",
        "    soundexcoding = [' ', ' ', ' ', ' ']\n",
        "    soundexcodingindex = 1\n",
        "\n",
        "    #           ABCDEFGHIJKLMNOPQRSTUVWXYZ\n",
        "    mappings = \"01230120022455012623010202\"\n",
        "\n",
        "    soundexcoding[0] = name[0].upper()\n",
        "\n",
        "    for i in range(1, len(name)):\n",
        "\n",
        "         c = ord(name[i].upper()) - 65\n",
        "\n",
        "         if c >= 0 and c <= 25:\n",
        "\n",
        "             if mappings[c] != '0':\n",
        "\n",
        "                 if mappings[c] != soundexcoding[soundexcodingindex-1]:\n",
        "\n",
        "                     soundexcoding[soundexcodingindex] = mappings[c]\n",
        "                     soundexcodingindex += 1\n",
        "\n",
        "                 if soundexcodingindex > 3:\n",
        "\n",
        "                     break\n",
        "\n",
        "    if soundexcodingindex <= 3:\n",
        "        while(soundexcodingindex <= 3):\n",
        "            soundexcoding[soundexcodingindex] = '0'\n",
        "            soundexcodingindex += 1\n",
        "\n",
        "    return ''.join(soundexcoding)"
      ]
    },
    {
      "cell_type": "code",
      "source": [
        "with open (\"words.txt\",'r') as file:\n",
        "  data = file.read()\n",
        "words=data.split(',')"
      ],
      "metadata": {
        "id": "gOtU3x4_IZ2W"
      },
      "execution_count": 2,
      "outputs": []
    },
    {
      "cell_type": "code",
      "source": [
        "source=input(\"Enter Your input String: \")\n",
        "answer=[]\n",
        "for w in words:\n",
        "  if soundex(source)==soundex(w):\n",
        "    answer.append(w)"
      ],
      "metadata": {
        "colab": {
          "base_uri": "https://localhost:8080/"
        },
        "id": "8PQgM5g0IoVb",
        "outputId": "9c60ece6-98c5-43e8-e471-5c57d7d8d44a"
      },
      "execution_count": 5,
      "outputs": [
        {
          "name": "stdout",
          "output_type": "stream",
          "text": [
            "Enter Your input String: murthy\n"
          ]
        }
      ]
    },
    {
      "cell_type": "code",
      "source": [
        "answer"
      ],
      "metadata": {
        "colab": {
          "base_uri": "https://localhost:8080/"
        },
        "id": "efWkhM48IrjU",
        "outputId": "0b5d3171-9aff-431f-8771-4e7615191a29"
      },
      "execution_count": 6,
      "outputs": [
        {
          "output_type": "execute_result",
          "data": {
            "text/plain": [
              "['Moorthi', 'Murthi', 'Murthy', 'Moort', 'Moorthy', 'Muurthi', 'Moortthy']"
            ]
          },
          "metadata": {},
          "execution_count": 6
        }
      ]
    },
    {
      "cell_type": "code",
      "source": [],
      "metadata": {
        "id": "9CtQcIBvJC7v"
      },
      "execution_count": null,
      "outputs": []
    }
  ]
}